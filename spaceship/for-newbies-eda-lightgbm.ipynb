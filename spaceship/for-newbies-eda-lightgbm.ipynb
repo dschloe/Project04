{
 "cells": [
  {
   "cell_type": "code",
   "execution_count": 1,
   "id": "572fe9e3",
   "metadata": {
    "_cell_guid": "b1076dfc-b9ad-4769-8c92-a6c4dae69d19",
    "_uuid": "8f2839f25d086af736a60e9eeb907d3b93b6e0e5",
    "execution": {
     "iopub.execute_input": "2022-04-01T03:38:23.820052Z",
     "iopub.status.busy": "2022-04-01T03:38:23.818341Z",
     "iopub.status.idle": "2022-04-01T03:38:23.831282Z",
     "shell.execute_reply": "2022-04-01T03:38:23.831801Z",
     "shell.execute_reply.started": "2022-04-01T03:35:27.168479Z"
    },
    "papermill": {
     "duration": 0.030103,
     "end_time": "2022-04-01T03:38:23.832246",
     "exception": false,
     "start_time": "2022-04-01T03:38:23.802143",
     "status": "completed"
    },
    "tags": []
   },
   "outputs": [
    {
     "name": "stdout",
     "output_type": "stream",
     "text": [
      "/kaggle/input/spaceship-titanic/sample_submission.csv\n",
      "/kaggle/input/spaceship-titanic/train.csv\n",
      "/kaggle/input/spaceship-titanic/test.csv\n"
     ]
    }
   ],
   "source": [
    "# This Python 3 environment comes with many helpful analytics libraries installed\n",
    "# It is defined by the kaggle/python Docker image: https://github.com/kaggle/docker-python\n",
    "# For example, here's several helpful packages to load\n",
    "\n",
    "import numpy as np # linear algebra\n",
    "import pandas as pd # data processing, CSV file I/O (e.g. pd.read_csv)\n",
    "\n",
    "# Input data files are available in the read-only \"../input/\" directory\n",
    "# For example, running this (by clicking run or pressing Shift+Enter) will list all files under the input directory\n",
    "\n",
    "import os\n",
    "for dirname, _, filenames in os.walk('/kaggle/input'):\n",
    "    for filename in filenames:\n",
    "        print(os.path.join(dirname, filename))\n",
    "\n",
    "# You can write up to 20GB to the current directory (/kaggle/working/) that gets preserved as output when you create a version using \"Save & Run All\" \n",
    "# You can also write temporary files to /kaggle/temp/, but they won't be saved outside of the current session"
   ]
  },
  {
   "cell_type": "markdown",
   "id": "24ee51a0",
   "metadata": {
    "papermill": {
     "duration": 0.010674,
     "end_time": "2022-04-01T03:38:23.854890",
     "exception": false,
     "start_time": "2022-04-01T03:38:23.844216",
     "status": "completed"
    },
    "tags": []
   },
   "source": [
    "# Step 1. 라이브러리 및 데이터 불러오기\n",
    "- 본 프로젝트 수행을 위한 필수 라이브러리를 불러온다. \n",
    "\n",
    "# 데이터 가공 \n",
    "import numpy as np \n",
    "import pandas as pd \n",
    "\n",
    "print(\"numpy version:\", np.__version__)\n",
    "print(\"pandas version:\", pd.__version__)\n",
    "\n",
    "# 데이터 시각화\n",
    "import matplotlib\n",
    "import matplotlib.pyplot as plt \n",
    "import seaborn as sns \n",
    "print(\"matplotlib version:\", matplotlib.__version__)\n",
    "print(\"seaborn version:\", sns.__version__)"
   ]
  },
  {
   "cell_type": "code",
   "execution_count": 2,
   "id": "7a8bace3",
   "metadata": {
    "execution": {
     "iopub.execute_input": "2022-04-01T03:38:23.883186Z",
     "iopub.status.busy": "2022-04-01T03:38:23.882429Z",
     "iopub.status.idle": "2022-04-01T03:38:24.900934Z",
     "shell.execute_reply": "2022-04-01T03:38:24.899931Z",
     "shell.execute_reply.started": "2022-04-01T03:35:27.182546Z"
    },
    "papermill": {
     "duration": 1.035405,
     "end_time": "2022-04-01T03:38:24.901117",
     "exception": false,
     "start_time": "2022-04-01T03:38:23.865712",
     "status": "completed"
    },
    "tags": []
   },
   "outputs": [
    {
     "name": "stdout",
     "output_type": "stream",
     "text": [
      "numpy version: 1.20.3\n",
      "pandas version: 1.3.5\n",
      "matplotlib version: 3.5.1\n",
      "seaborn version: 0.11.2\n"
     ]
    }
   ],
   "source": [
    "# 데이터 가공 \n",
    "import numpy as np \n",
    "import pandas as pd \n",
    "\n",
    "print(\"numpy version:\", np.__version__)\n",
    "print(\"pandas version:\", pd.__version__)\n",
    "\n",
    "# 데이터 시각화\n",
    "import matplotlib\n",
    "import matplotlib.pyplot as plt \n",
    "import seaborn as sns \n",
    "print(\"matplotlib version:\", matplotlib.__version__)\n",
    "print(\"seaborn version:\", sns.__version__)"
   ]
  },
  {
   "cell_type": "markdown",
   "id": "699f5d49",
   "metadata": {
    "papermill": {
     "duration": 0.011473,
     "end_time": "2022-04-01T03:38:24.923878",
     "exception": false,
     "start_time": "2022-04-01T03:38:24.912405",
     "status": "completed"
    },
    "tags": []
   },
   "source": [
    "- 이번에는 주어진 데이터를 불러온다. \n",
    "- 훈련데이터는 8,6"
   ]
  },
  {
   "cell_type": "code",
   "execution_count": 3,
   "id": "038cfa13",
   "metadata": {
    "execution": {
     "iopub.execute_input": "2022-04-01T03:38:24.952344Z",
     "iopub.status.busy": "2022-04-01T03:38:24.951256Z",
     "iopub.status.idle": "2022-04-01T03:38:25.032146Z",
     "shell.execute_reply": "2022-04-01T03:38:25.031519Z",
     "shell.execute_reply.started": "2022-04-01T03:35:27.194193Z"
    },
    "papermill": {
     "duration": 0.097199,
     "end_time": "2022-04-01T03:38:25.032294",
     "exception": false,
     "start_time": "2022-04-01T03:38:24.935095",
     "status": "completed"
    },
    "tags": []
   },
   "outputs": [
    {
     "data": {
      "text/plain": [
       "((8693, 14), (4277, 13), (4277, 2))"
      ]
     },
     "execution_count": 3,
     "metadata": {},
     "output_type": "execute_result"
    }
   ],
   "source": [
    "train_data = pd.read_csv(\"../input/spaceship-titanic/train.csv\")\n",
    "test_data = pd.read_csv(\"../input/spaceship-titanic/test.csv\")\n",
    "sample_submission = pd.read_csv(\"../input/spaceship-titanic/sample_submission.csv\")\n",
    "\n",
    "train_data.shape, test_data.shape, sample_submission.shape"
   ]
  },
  {
   "cell_type": "markdown",
   "id": "6a2d30a7",
   "metadata": {
    "papermill": {
     "duration": 0.011894,
     "end_time": "2022-04-01T03:38:25.055842",
     "exception": false,
     "start_time": "2022-04-01T03:38:25.043948",
     "status": "completed"
    },
    "tags": []
   },
   "source": []
  },
  {
   "cell_type": "code",
   "execution_count": 4,
   "id": "7f7969c1",
   "metadata": {
    "execution": {
     "iopub.execute_input": "2022-04-01T03:38:25.086424Z",
     "iopub.status.busy": "2022-04-01T03:38:25.081738Z",
     "iopub.status.idle": "2022-04-01T03:38:25.111394Z",
     "shell.execute_reply": "2022-04-01T03:38:25.111847Z",
     "shell.execute_reply.started": "2022-04-01T03:35:27.288852Z"
    },
    "papermill": {
     "duration": 0.044759,
     "end_time": "2022-04-01T03:38:25.112062",
     "exception": false,
     "start_time": "2022-04-01T03:38:25.067303",
     "status": "completed"
    },
    "tags": []
   },
   "outputs": [
    {
     "name": "stdout",
     "output_type": "stream",
     "text": [
      "<class 'pandas.core.frame.DataFrame'>\n",
      "RangeIndex: 8693 entries, 0 to 8692\n",
      "Data columns (total 14 columns):\n",
      " #   Column        Non-Null Count  Dtype  \n",
      "---  ------        --------------  -----  \n",
      " 0   PassengerId   8693 non-null   object \n",
      " 1   HomePlanet    8492 non-null   object \n",
      " 2   CryoSleep     8476 non-null   object \n",
      " 3   Cabin         8494 non-null   object \n",
      " 4   Destination   8511 non-null   object \n",
      " 5   Age           8514 non-null   float64\n",
      " 6   VIP           8490 non-null   object \n",
      " 7   RoomService   8512 non-null   float64\n",
      " 8   FoodCourt     8510 non-null   float64\n",
      " 9   ShoppingMall  8485 non-null   float64\n",
      " 10  Spa           8510 non-null   float64\n",
      " 11  VRDeck        8505 non-null   float64\n",
      " 12  Name          8493 non-null   object \n",
      " 13  Transported   8693 non-null   bool   \n",
      "dtypes: bool(1), float64(6), object(7)\n",
      "memory usage: 891.5+ KB\n"
     ]
    }
   ],
   "source": [
    "train_data.info()"
   ]
  },
  {
   "cell_type": "markdown",
   "id": "9e5b7df3",
   "metadata": {
    "papermill": {
     "duration": 0.011585,
     "end_time": "2022-04-01T03:38:25.135487",
     "exception": false,
     "start_time": "2022-04-01T03:38:25.123902",
     "status": "completed"
    },
    "tags": []
   },
   "source": []
  },
  {
   "cell_type": "code",
   "execution_count": null,
   "id": "2b8d4010",
   "metadata": {
    "papermill": {
     "duration": 0.01193,
     "end_time": "2022-04-01T03:38:25.159186",
     "exception": false,
     "start_time": "2022-04-01T03:38:25.147256",
     "status": "completed"
    },
    "tags": []
   },
   "outputs": [],
   "source": []
  },
  {
   "cell_type": "markdown",
   "id": "21367519",
   "metadata": {
    "papermill": {
     "duration": 0.011594,
     "end_time": "2022-04-01T03:38:25.182878",
     "exception": false,
     "start_time": "2022-04-01T03:38:25.171284",
     "status": "completed"
    },
    "tags": []
   },
   "source": [
    "# Step 2. 탐색적 자료 분석 (EDA)\n",
    "- 데이터 시각화\n",
    "- 산점도, 막대 그래프 등\n",
    "- 그래프 해석해서 설명을 달아야 함\n",
    "- 약간의 데이터 전처리"
   ]
  },
  {
   "cell_type": "markdown",
   "id": "514c8e19",
   "metadata": {
    "papermill": {
     "duration": 0.011745,
     "end_time": "2022-04-01T03:38:25.207027",
     "exception": false,
     "start_time": "2022-04-01T03:38:25.195282",
     "status": "completed"
    },
    "tags": []
   },
   "source": [
    "# Step 3. 데이터 전처리\n",
    "- Feature Engineering\n",
    "- ML 모형을 돌리기 위해 표준화 등 / 원핫-인코딩\n",
    "- 파생변수 (도출 변수)\n",
    "    + 왜 이 변수를 만들었는지에 대한 여러분들의 설명 필요"
   ]
  },
  {
   "cell_type": "markdown",
   "id": "9f280496",
   "metadata": {
    "papermill": {
     "duration": 0.011446,
     "end_time": "2022-04-01T03:38:25.230210",
     "exception": false,
     "start_time": "2022-04-01T03:38:25.218764",
     "status": "completed"
    },
    "tags": []
   },
   "source": [
    "# Step 4. 머신러닝 모형 개발\n",
    "- 모형에 대한 설명 필요\n",
    "- 모형을 1-2개 사용\n",
    "- 교차 검증\n",
    "- 하이퍼파라미터 튜닝"
   ]
  },
  {
   "cell_type": "markdown",
   "id": "9d1de855",
   "metadata": {
    "papermill": {
     "duration": 0.011451,
     "end_time": "2022-04-01T03:38:25.253464",
     "exception": false,
     "start_time": "2022-04-01T03:38:25.242013",
     "status": "completed"
    },
    "tags": []
   },
   "source": [
    "# Step 5. 모형 평가\n",
    "- 훈련데이터 쪼갠다. 훈련데이터 + 검증데이터 분리\n",
    "- 정확도 비교\n",
    "- 혼동행렬 (Confusion Matrix) 설명\n"
   ]
  },
  {
   "cell_type": "markdown",
   "id": "09d3e393",
   "metadata": {
    "papermill": {
     "duration": 0.011566,
     "end_time": "2022-04-01T03:38:25.277057",
     "exception": false,
     "start_time": "2022-04-01T03:38:25.265491",
     "status": "completed"
    },
    "tags": []
   },
   "source": [
    "# Step 6. 제출\n",
    "- 제출 양식은 샘플 만들어드림"
   ]
  },
  {
   "cell_type": "markdown",
   "id": "165bb0ba",
   "metadata": {
    "papermill": {
     "duration": 0.011312,
     "end_time": "2022-04-01T03:38:25.300097",
     "exception": false,
     "start_time": "2022-04-01T03:38:25.288785",
     "status": "completed"
    },
    "tags": []
   },
   "source": [
    "# 참고\n",
    "- 다른 사람의 code 설명을 쭉 따라침. \n",
    "- 노트북 표절 방지 위해, 여러분들이 참조한 코드는 반드시 링크 걸어둘 것\n",
    "- 저자 이름, 글 제목, 링크 주소"
   ]
  },
  {
   "cell_type": "markdown",
   "id": "5d2f9fa3",
   "metadata": {
    "papermill": {
     "duration": 0.011491,
     "end_time": "2022-04-01T03:38:25.323584",
     "exception": false,
     "start_time": "2022-04-01T03:38:25.312093",
     "status": "completed"
    },
    "tags": []
   },
   "source": [
    "# 마감일\n",
    "- 4월 12일 17시 40분\n",
    "- 제출 형태\n",
    "    + Leaderboard 랭킹 사진 캡쳐\n",
    "    + 고용노동부 보고 양식 (다음주에 확인해서 알려드림)"
   ]
  },
  {
   "cell_type": "markdown",
   "id": "868fb592",
   "metadata": {
    "papermill": {
     "duration": 0.011406,
     "end_time": "2022-04-01T03:38:25.346714",
     "exception": false,
     "start_time": "2022-04-01T03:38:25.335308",
     "status": "completed"
    },
    "tags": []
   },
   "source": []
  },
  {
   "cell_type": "markdown",
   "id": "743912af",
   "metadata": {
    "papermill": {
     "duration": 0.011344,
     "end_time": "2022-04-01T03:38:25.369612",
     "exception": false,
     "start_time": "2022-04-01T03:38:25.358268",
     "status": "completed"
    },
    "tags": []
   },
   "source": []
  }
 ],
 "metadata": {
  "kernelspec": {
   "display_name": "Python 3",
   "language": "python",
   "name": "python3"
  },
  "language_info": {
   "codemirror_mode": {
    "name": "ipython",
    "version": 3
   },
   "file_extension": ".py",
   "mimetype": "text/x-python",
   "name": "python",
   "nbconvert_exporter": "python",
   "pygments_lexer": "ipython3",
   "version": "3.7.12"
  },
  "papermill": {
   "default_parameters": {},
   "duration": 10.761626,
   "end_time": "2022-04-01T03:38:26.092510",
   "environment_variables": {},
   "exception": null,
   "input_path": "__notebook__.ipynb",
   "output_path": "__notebook__.ipynb",
   "parameters": {},
   "start_time": "2022-04-01T03:38:15.330884",
   "version": "2.3.3"
  }
 },
 "nbformat": 4,
 "nbformat_minor": 5
}
