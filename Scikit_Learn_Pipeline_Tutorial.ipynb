{
  "nbformat": 4,
  "nbformat_minor": 0,
  "metadata": {
    "colab": {
      "name": "Scikit-Learn Pipeline Tutorial.ipynb",
      "provenance": [],
      "collapsed_sections": [],
      "authorship_tag": "ABX9TyNc9EHjHdD/3q0etoLY4JfQ",
      "include_colab_link": true
    },
    "kernelspec": {
      "name": "python3",
      "display_name": "Python 3"
    },
    "language_info": {
      "name": "python"
    }
  },
  "cells": [
    {
      "cell_type": "markdown",
      "metadata": {
        "id": "view-in-github",
        "colab_type": "text"
      },
      "source": [
        "<a href=\"https://colab.research.google.com/github/dschloe/inflern_ml/blob/main/Scikit_Learn_Pipeline_Tutorial.ipynb\" target=\"_parent\"><img src=\"https://colab.research.google.com/assets/colab-badge.svg\" alt=\"Open In Colab\"/></a>"
      ]
    },
    {
      "cell_type": "markdown",
      "source": [
        "# 개요\n",
        "- Scikit-Learn Pipeline 라이브러리를 활용하여 머신러닝을 개발한다. "
      ],
      "metadata": {
        "id": "qKFp0EkZfS9G"
      }
    },
    {
      "cell_type": "markdown",
      "source": [
        "# 데이터 불러오기"
      ],
      "metadata": {
        "id": "-bkZUexweftT"
      }
    },
    {
      "cell_type": "code",
      "execution_count": 12,
      "metadata": {
        "colab": {
          "base_uri": "https://localhost:8080/"
        },
        "id": "tZ0AdHswfMgl",
        "outputId": "5cc109d3-730e-4c40-b4b8-133f943e7d51"
      },
      "outputs": [
        {
          "output_type": "stream",
          "name": "stdout",
          "text": [
            "<class 'pandas.core.frame.DataFrame'>\n",
            "RangeIndex: 731 entries, 0 to 730\n",
            "Data columns (total 14 columns):\n",
            " #   Column      Non-Null Count  Dtype  \n",
            "---  ------      --------------  -----  \n",
            " 0   instant     731 non-null    int64  \n",
            " 1   dteday      731 non-null    object \n",
            " 2   season      731 non-null    int64  \n",
            " 3   yr          731 non-null    int64  \n",
            " 4   mnth        731 non-null    int64  \n",
            " 5   holiday     731 non-null    int64  \n",
            " 6   weekday     731 non-null    int64  \n",
            " 7   workingday  731 non-null    int64  \n",
            " 8   weathersit  731 non-null    int64  \n",
            " 9   temp        731 non-null    float64\n",
            " 10  atemp       731 non-null    float64\n",
            " 11  hum         731 non-null    float64\n",
            " 12  windspeed   731 non-null    float64\n",
            " 13  rentals     731 non-null    int64  \n",
            "dtypes: float64(4), int64(9), object(1)\n",
            "memory usage: 80.1+ KB\n"
          ]
        }
      ],
      "source": [
        "import pandas as pd\n",
        "import numpy as np\n",
        "data = pd.read_csv('https://raw.githubusercontent.com/MicrosoftDocs/ml-basics/master/data/daily-bike-share.csv')\n",
        "data.info()"
      ]
    },
    {
      "cell_type": "markdown",
      "source": [
        "# 데이터 추출"
      ],
      "metadata": {
        "id": "AcypG3TKejSq"
      }
    },
    {
      "cell_type": "code",
      "source": [
        "cols = ['season', 'mnth', 'holiday', 'weekday', 'workingday', 'weathersit', 'temp', 'atemp', 'hum', 'windspeed', 'rentals']\n",
        "data = data[cols]\n",
        "data['mnth'].value_counts()"
      ],
      "metadata": {
        "colab": {
          "base_uri": "https://localhost:8080/"
        },
        "id": "ml2kHuLUgOpd",
        "outputId": "f6844786-ac05-47a2-9d0a-ca49bd9475f1"
      },
      "execution_count": 13,
      "outputs": [
        {
          "output_type": "execute_result",
          "data": {
            "text/plain": [
              "1     62\n",
              "3     62\n",
              "5     62\n",
              "7     62\n",
              "8     62\n",
              "10    62\n",
              "12    62\n",
              "4     60\n",
              "6     60\n",
              "9     60\n",
              "11    60\n",
              "2     57\n",
              "Name: mnth, dtype: int64"
            ]
          },
          "metadata": {},
          "execution_count": 13
        }
      ]
    },
    {
      "cell_type": "markdown",
      "source": [
        "# 데이터셋 분리"
      ],
      "metadata": {
        "id": "6Zz06s_ifwIQ"
      }
    },
    {
      "cell_type": "code",
      "source": [
        "from sklearn.model_selection import train_test_split\n",
        "X = data.drop('rentals',axis=1)\n",
        "y = data['rentals']\n",
        "\n",
        "X_train, X_test, y_train, y_test = train_test_split(X, y, test_size=0.2, random_state=123)"
      ],
      "metadata": {
        "id": "znT7ezAZfxv7"
      },
      "execution_count": 14,
      "outputs": []
    },
    {
      "cell_type": "markdown",
      "source": [
        "# Pipeline 구축"
      ],
      "metadata": {
        "id": "LpQFst5Jf5kI"
      }
    },
    {
      "cell_type": "code",
      "source": [
        "from sklearn.preprocessing import StandardScaler, OrdinalEncoder, OneHotEncoder\n",
        "from sklearn.impute import SimpleImputer\n",
        "from sklearn.compose import ColumnTransformer\n",
        "from sklearn.pipeline import Pipeline\n",
        "\n",
        "numeric_transformer = Pipeline(steps=[\n",
        "       ('imputer', SimpleImputer(strategy='mean'))\n",
        "      ,('scaler', StandardScaler())\n",
        "])\n",
        "\n",
        "ordinal_transformer = Pipeline(steps=[\n",
        "       ('imputer', SimpleImputer(strategy='constant'))\n",
        "      ,('ordEncoder', OrdinalEncoder())\n",
        "])\n",
        "\n",
        "onehot_transformer = Pipeline(steps=[\n",
        "       ('imputer', SimpleImputer(strategy='constant'))\n",
        "      ,('oheEncoder', OneHotEncoder())                                   \n",
        "])\n",
        "\n",
        "# 수치형 데이터 및 Categorical 데이터 컬럼 분리\n",
        "\n",
        "numeric_features = ['temp', 'atemp', 'hum', 'windspeed']\n",
        "ordinal_features = ['holiday', 'weekday', 'workingday', 'weathersit']\n",
        "onehot_features  = ['season', 'mnth']\n",
        "\n",
        "# numeric_features = data.select_dtypes(include=['int64', 'float64']).columns\n",
        "# categorical_features = data.select_dtypes(include=['object']).drop(['Loan_Status'], axis=1).columns\n",
        "\n",
        "preprocessor = ColumnTransformer(\n",
        "   transformers=[\n",
        "     ('numeric', numeric_transformer, numeric_features)\n",
        "   , ('ord_categorical', ordinal_transformer, ordinal_features)\n",
        "   , ('ohe_categorical', onehot_transformer, onehot_features)\n",
        "])"
      ],
      "metadata": {
        "id": "siUsU5vCf2oL"
      },
      "execution_count": 15,
      "outputs": []
    },
    {
      "cell_type": "markdown",
      "source": [
        "# 모델 개발 "
      ],
      "metadata": {
        "id": "sKyfUsMlh7p0"
      }
    },
    {
      "cell_type": "code",
      "source": [
        "from sklearn.ensemble import RandomForestRegressor\n",
        "\n",
        "pipeline = Pipeline(steps = [\n",
        "               ('preprocessor', preprocessor)\n",
        "              ,('regressor', RandomForestRegressor())\n",
        "           ])\n",
        "\n",
        "rf_model = pipeline.fit(X_train, y_train)\n",
        "print(rf_model)"
      ],
      "metadata": {
        "id": "1G9qAj61h-LR",
        "colab": {
          "base_uri": "https://localhost:8080/"
        },
        "outputId": "f369b01f-c795-48d7-dd7a-26515e5a43a8"
      },
      "execution_count": 16,
      "outputs": [
        {
          "output_type": "stream",
          "name": "stdout",
          "text": [
            "Pipeline(steps=[('preprocessor',\n",
            "                 ColumnTransformer(transformers=[('numeric',\n",
            "                                                  Pipeline(steps=[('imputer',\n",
            "                                                                   SimpleImputer()),\n",
            "                                                                  ('scaler',\n",
            "                                                                   StandardScaler())]),\n",
            "                                                  ['temp', 'atemp', 'hum',\n",
            "                                                   'windspeed']),\n",
            "                                                 ('ord_categorical',\n",
            "                                                  Pipeline(steps=[('imputer',\n",
            "                                                                   SimpleImputer(strategy='constant')),\n",
            "                                                                  ('ordEncoder',\n",
            "                                                                   OrdinalEncoder())]),\n",
            "                                                  ['holiday', 'weekday',\n",
            "                                                   'workingday',\n",
            "                                                   'weathersit']),\n",
            "                                                 ('ohe_categorical',\n",
            "                                                  Pipeline(steps=[('imputer',\n",
            "                                                                   SimpleImputer(strategy='constant')),\n",
            "                                                                  ('oheEncoder',\n",
            "                                                                   OneHotEncoder())]),\n",
            "                                                  ['season', 'mnth'])])),\n",
            "                ('regressor', RandomForestRegressor())])\n"
          ]
        }
      ]
    },
    {
      "cell_type": "markdown",
      "source": [
        "# 모델 평가 "
      ],
      "metadata": {
        "id": "kpS8y-fMiAlj"
      }
    },
    {
      "cell_type": "code",
      "source": [
        "from sklearn.metrics import r2_score\n",
        "predictions = rf_model.predict(X_test)\n",
        "print (r2_score(y_test, predictions))"
      ],
      "metadata": {
        "colab": {
          "base_uri": "https://localhost:8080/"
        },
        "id": "xkc_iTrFiysO",
        "outputId": "1390a538-3c0f-40dc-dea8-aa5b9e0ce273"
      },
      "execution_count": 17,
      "outputs": [
        {
          "output_type": "stream",
          "name": "stdout",
          "text": [
            "0.7704600824862011\n"
          ]
        }
      ]
    },
    {
      "cell_type": "markdown",
      "source": [
        "# 다중 모형 개발 시"
      ],
      "metadata": {
        "id": "3dnvKUA5iw74"
      }
    },
    {
      "cell_type": "code",
      "source": [
        "from sklearn.ensemble import RandomForestRegressor\n",
        "from sklearn.tree import DecisionTreeRegressor\n",
        "\n",
        "pipe_rf = Pipeline(steps = [\n",
        "               ('preprocessor', preprocessor)\n",
        "              ,('rf', RandomForestRegressor())\n",
        "           ])\n",
        "\n",
        "pipe_dt = Pipeline(steps = [\n",
        "               ('preprocessor', preprocessor)\n",
        "              ,('dt', DecisionTreeRegressor())\n",
        "           ])\n",
        "\n",
        "regressors = [pipe_rf, pipe_dt]\n",
        "model_names = [\"RandomForest\", \"Decition Tree\"]\n",
        "for idx, regressor in enumerate(regressors):\n",
        "  regressor.fit(X_train, y_train)\n",
        "  predictions = regressor.predict(X_test)\n",
        "  print(f'{model_names[idx]}: r2 score:{r2_score(predictions, y_test)}')"
      ],
      "metadata": {
        "colab": {
          "base_uri": "https://localhost:8080/"
        },
        "id": "xEE6z6QEi95Q",
        "outputId": "97565fd8-3b4a-4dc2-f6b5-c447111efe91"
      },
      "execution_count": 37,
      "outputs": [
        {
          "output_type": "stream",
          "name": "stdout",
          "text": [
            "RandomForest: r2 score:0.7528476003335457\n",
            "Decition Tree: r2 score:0.6433342088873556\n"
          ]
        }
      ]
    },
    {
      "cell_type": "markdown",
      "source": [
        "- 좀 더 쉽게 하면 아래와 같이 할 수 있다. "
      ],
      "metadata": {
        "id": "KaZOHZ4psTPb"
      }
    },
    {
      "cell_type": "code",
      "source": [
        "from sklearn.ensemble import RandomForestRegressor\n",
        "from sklearn.tree import DecisionTreeRegressor\n",
        "\n",
        "regressors = [\n",
        "    RandomForestRegressor()\n",
        "   ,DecisionTreeRegressor()\n",
        "]\n",
        "\n",
        "# regressors = [pipe_rf, pipe_dt]\n",
        "for regressor in regressors:\n",
        "    pipeline = Pipeline(steps = [\n",
        "               ('preprocessor', preprocessor)\n",
        "              ,('regressor',regressor)\n",
        "           ])\n",
        "    model = pipeline.fit(X_train, y_train)\n",
        "    predictions = model.predict(X_test)\n",
        "    print(regressor)\n",
        "    print(f'Model r2 score:{r2_score(predictions, y_test)}')"
      ],
      "metadata": {
        "colab": {
          "base_uri": "https://localhost:8080/"
        },
        "id": "ocdcCF3KsGpo",
        "outputId": "a1da2155-2c30-4c72-9777-f6aea75e3c65"
      },
      "execution_count": 40,
      "outputs": [
        {
          "output_type": "stream",
          "name": "stdout",
          "text": [
            "RandomForestRegressor()\n",
            "Model r2 score:0.7408932278672407\n",
            "DecisionTreeRegressor()\n",
            "Model r2 score:0.6386493540856627\n"
          ]
        }
      ]
    },
    {
      "cell_type": "code",
      "source": [
        "pipeline.get_params()"
      ],
      "metadata": {
        "colab": {
          "base_uri": "https://localhost:8080/"
        },
        "id": "w22E_bgAsy6P",
        "outputId": "24b5303a-d4fb-4b49-b97f-17b2954571cd"
      },
      "execution_count": 41,
      "outputs": [
        {
          "output_type": "execute_result",
          "data": {
            "text/plain": [
              "{'memory': None, 'preprocessor': ColumnTransformer(transformers=[('numeric',\n",
              "                                  Pipeline(steps=[('imputer', SimpleImputer()),\n",
              "                                                  ('scaler', StandardScaler())]),\n",
              "                                  ['temp', 'atemp', 'hum', 'windspeed']),\n",
              "                                 ('ord_categorical',\n",
              "                                  Pipeline(steps=[('imputer',\n",
              "                                                   SimpleImputer(strategy='constant')),\n",
              "                                                  ('ordEncoder',\n",
              "                                                   OrdinalEncoder())]),\n",
              "                                  ['holiday', 'weekday', 'workingday',\n",
              "                                   'weathersit']),\n",
              "                                 ('ohe_categorical',\n",
              "                                  Pipeline(steps=[('imputer',\n",
              "                                                   SimpleImputer(strategy='constant')),\n",
              "                                                  ('oheEncoder',\n",
              "                                                   OneHotEncoder())]),\n",
              "                                  ['season', 'mnth'])]), 'preprocessor__n_jobs': None, 'preprocessor__numeric': Pipeline(steps=[('imputer', SimpleImputer()), ('scaler', StandardScaler())]), 'preprocessor__numeric__imputer': SimpleImputer(), 'preprocessor__numeric__imputer__add_indicator': False, 'preprocessor__numeric__imputer__copy': True, 'preprocessor__numeric__imputer__fill_value': None, 'preprocessor__numeric__imputer__missing_values': nan, 'preprocessor__numeric__imputer__strategy': 'mean', 'preprocessor__numeric__imputer__verbose': 0, 'preprocessor__numeric__memory': None, 'preprocessor__numeric__scaler': StandardScaler(), 'preprocessor__numeric__scaler__copy': True, 'preprocessor__numeric__scaler__with_mean': True, 'preprocessor__numeric__scaler__with_std': True, 'preprocessor__numeric__steps': [('imputer',\n",
              "   SimpleImputer()),\n",
              "  ('scaler',\n",
              "   StandardScaler())], 'preprocessor__numeric__verbose': False, 'preprocessor__ohe_categorical': Pipeline(steps=[('imputer', SimpleImputer(strategy='constant')),\n",
              "                 ('oheEncoder', OneHotEncoder())]), 'preprocessor__ohe_categorical__imputer': SimpleImputer(strategy='constant'), 'preprocessor__ohe_categorical__imputer__add_indicator': False, 'preprocessor__ohe_categorical__imputer__copy': True, 'preprocessor__ohe_categorical__imputer__fill_value': None, 'preprocessor__ohe_categorical__imputer__missing_values': nan, 'preprocessor__ohe_categorical__imputer__strategy': 'constant', 'preprocessor__ohe_categorical__imputer__verbose': 0, 'preprocessor__ohe_categorical__memory': None, 'preprocessor__ohe_categorical__oheEncoder': OneHotEncoder(), 'preprocessor__ohe_categorical__oheEncoder__categories': 'auto', 'preprocessor__ohe_categorical__oheEncoder__drop': None, 'preprocessor__ohe_categorical__oheEncoder__dtype': numpy.float64, 'preprocessor__ohe_categorical__oheEncoder__handle_unknown': 'error', 'preprocessor__ohe_categorical__oheEncoder__sparse': True, 'preprocessor__ohe_categorical__steps': [('imputer',\n",
              "   SimpleImputer(strategy='constant')),\n",
              "  ('oheEncoder',\n",
              "   OneHotEncoder())], 'preprocessor__ohe_categorical__verbose': False, 'preprocessor__ord_categorical': Pipeline(steps=[('imputer', SimpleImputer(strategy='constant')),\n",
              "                 ('ordEncoder', OrdinalEncoder())]), 'preprocessor__ord_categorical__imputer': SimpleImputer(strategy='constant'), 'preprocessor__ord_categorical__imputer__add_indicator': False, 'preprocessor__ord_categorical__imputer__copy': True, 'preprocessor__ord_categorical__imputer__fill_value': None, 'preprocessor__ord_categorical__imputer__missing_values': nan, 'preprocessor__ord_categorical__imputer__strategy': 'constant', 'preprocessor__ord_categorical__imputer__verbose': 0, 'preprocessor__ord_categorical__memory': None, 'preprocessor__ord_categorical__ordEncoder': OrdinalEncoder(), 'preprocessor__ord_categorical__ordEncoder__categories': 'auto', 'preprocessor__ord_categorical__ordEncoder__dtype': numpy.float64, 'preprocessor__ord_categorical__ordEncoder__handle_unknown': 'error', 'preprocessor__ord_categorical__ordEncoder__unknown_value': None, 'preprocessor__ord_categorical__steps': [('imputer',\n",
              "   SimpleImputer(strategy='constant')),\n",
              "  ('ordEncoder',\n",
              "   OrdinalEncoder())], 'preprocessor__ord_categorical__verbose': False, 'preprocessor__remainder': 'drop', 'preprocessor__sparse_threshold': 0.3, 'preprocessor__transformer_weights': None, 'preprocessor__transformers': [('numeric',\n",
              "   Pipeline(steps=[('imputer', SimpleImputer()), ('scaler', StandardScaler())]),\n",
              "   ['temp', 'atemp', 'hum', 'windspeed']),\n",
              "  ('ord_categorical',\n",
              "   Pipeline(steps=[('imputer', SimpleImputer(strategy='constant')),\n",
              "                   ('ordEncoder', OrdinalEncoder())]),\n",
              "   ['holiday', 'weekday', 'workingday', 'weathersit']),\n",
              "  ('ohe_categorical',\n",
              "   Pipeline(steps=[('imputer', SimpleImputer(strategy='constant')),\n",
              "                   ('oheEncoder', OneHotEncoder())]),\n",
              "   ['season',\n",
              "    'mnth'])], 'preprocessor__verbose': False, 'preprocessor__verbose_feature_names_out': True, 'regressor': DecisionTreeRegressor(), 'regressor__ccp_alpha': 0.0, 'regressor__criterion': 'squared_error', 'regressor__max_depth': None, 'regressor__max_features': None, 'regressor__max_leaf_nodes': None, 'regressor__min_impurity_decrease': 0.0, 'regressor__min_samples_leaf': 1, 'regressor__min_samples_split': 2, 'regressor__min_weight_fraction_leaf': 0.0, 'regressor__random_state': None, 'regressor__splitter': 'best', 'steps': [('preprocessor',\n",
              "   ColumnTransformer(transformers=[('numeric',\n",
              "                                    Pipeline(steps=[('imputer', SimpleImputer()),\n",
              "                                                    ('scaler', StandardScaler())]),\n",
              "                                    ['temp', 'atemp', 'hum', 'windspeed']),\n",
              "                                   ('ord_categorical',\n",
              "                                    Pipeline(steps=[('imputer',\n",
              "                                                     SimpleImputer(strategy='constant')),\n",
              "                                                    ('ordEncoder',\n",
              "                                                     OrdinalEncoder())]),\n",
              "                                    ['holiday', 'weekday', 'workingday',\n",
              "                                     'weathersit']),\n",
              "                                   ('ohe_categorical',\n",
              "                                    Pipeline(steps=[('imputer',\n",
              "                                                     SimpleImputer(strategy='constant')),\n",
              "                                                    ('oheEncoder',\n",
              "                                                     OneHotEncoder())]),\n",
              "                                    ['season', 'mnth'])])),\n",
              "  ('regressor', DecisionTreeRegressor())], 'verbose': False}"
            ]
          },
          "metadata": {},
          "execution_count": 41
        }
      ]
    }
  ]
}